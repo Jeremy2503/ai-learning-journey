{
 "cells": [
  {
   "cell_type": "code",
   "execution_count": 4,
   "id": "563bc619",
   "metadata": {},
   "outputs": [],
   "source": [
    "# In your first cell, always start with:\n",
    "import numpy as np\n",
    "import pandas as pd\n",
    "import matplotlib.pyplot as plt\n",
    "import seaborn as sns\n",
    "\n",
    "# Set up plotting\n",
    "%matplotlib inline\n",
    "plt.style.use('seaborn-v0_8')"
   ]
  }
 ],
 "metadata": {
  "kernelspec": {
   "display_name": "ai-learning-env",
   "language": "python",
   "name": "python3"
  },
  "language_info": {
   "codemirror_mode": {
    "name": "ipython",
    "version": 3
   },
   "file_extension": ".py",
   "mimetype": "text/x-python",
   "name": "python",
   "nbconvert_exporter": "python",
   "pygments_lexer": "ipython3",
   "version": "3.13.5"
  }
 },
 "nbformat": 4,
 "nbformat_minor": 5
}
